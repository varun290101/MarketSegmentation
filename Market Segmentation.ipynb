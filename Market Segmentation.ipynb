{
 "cells": [
  {
   "cell_type": "code",
   "execution_count": 45,
   "id": "68b4142e",
   "metadata": {},
   "outputs": [],
   "source": [
    "import pandas as pd"
   ]
  },
  {
   "cell_type": "code",
   "execution_count": 46,
   "id": "1de1bdff",
   "metadata": {},
   "outputs": [
    {
     "data": {
      "text/html": [
       "<div>\n",
       "<style scoped>\n",
       "    .dataframe tbody tr th:only-of-type {\n",
       "        vertical-align: middle;\n",
       "    }\n",
       "\n",
       "    .dataframe tbody tr th {\n",
       "        vertical-align: top;\n",
       "    }\n",
       "\n",
       "    .dataframe thead th {\n",
       "        text-align: right;\n",
       "    }\n",
       "</style>\n",
       "<table border=\"1\" class=\"dataframe\">\n",
       "  <thead>\n",
       "    <tr style=\"text-align: right;\">\n",
       "      <th></th>\n",
       "      <th>Role</th>\n",
       "      <th>Companies</th>\n",
       "      <th>Location</th>\n",
       "      <th>Experience</th>\n",
       "      <th>Skills</th>\n",
       "    </tr>\n",
       "  </thead>\n",
       "  <tbody>\n",
       "    <tr>\n",
       "      <th>0</th>\n",
       "      <td>Data Scientist/ Academic Counselor</td>\n",
       "      <td>GREAT LAKES E-LEARNING SERVICES PRIVATE LIMITED</td>\n",
       "      <td>Chennai, Bengaluru</td>\n",
       "      <td>2-7 Yrs</td>\n",
       "      <td>Data Science\\nArtificial Intelligence\\ntrainin...</td>\n",
       "    </tr>\n",
       "    <tr>\n",
       "      <th>1</th>\n",
       "      <td>Data Scientist</td>\n",
       "      <td>Shell India Markets Private Limited</td>\n",
       "      <td>Chennai</td>\n",
       "      <td>5-7 Yrs</td>\n",
       "      <td>Data Science\\nMultivariate Analysis\\nFactor An...</td>\n",
       "    </tr>\n",
       "    <tr>\n",
       "      <th>2</th>\n",
       "      <td>Senior Data Scientist</td>\n",
       "      <td>Decision Point</td>\n",
       "      <td>Gurgaon</td>\n",
       "      <td>3-5 Yrs</td>\n",
       "      <td>Azure\\ntimeseries forecasting\\nMachine Learnin...</td>\n",
       "    </tr>\n",
       "    <tr>\n",
       "      <th>3</th>\n",
       "      <td>Data Scientist - Machine Learning &amp; Statistica...</td>\n",
       "      <td>Talent Stock Solutions</td>\n",
       "      <td>Delhi</td>\n",
       "      <td>2-5 Yrs</td>\n",
       "      <td>Data Science\\nR\\nC\\nData Scientist\\nStatistica...</td>\n",
       "    </tr>\n",
       "    <tr>\n",
       "      <th>4</th>\n",
       "      <td>Data Scientist</td>\n",
       "      <td>Zen3Tech (A Tech Mahindra Company)</td>\n",
       "      <td>Hyderabad</td>\n",
       "      <td>3-8 Yrs</td>\n",
       "      <td>R\\nA/B Testing\\nData Manipulation\\nMachine Lea...</td>\n",
       "    </tr>\n",
       "  </tbody>\n",
       "</table>\n",
       "</div>"
      ],
      "text/plain": [
       "                                                Role  \\\n",
       "0                 Data Scientist/ Academic Counselor   \n",
       "1                                     Data Scientist   \n",
       "2                              Senior Data Scientist   \n",
       "3  Data Scientist - Machine Learning & Statistica...   \n",
       "4                                     Data Scientist   \n",
       "\n",
       "                                         Companies            Location  \\\n",
       "0  GREAT LAKES E-LEARNING SERVICES PRIVATE LIMITED  Chennai, Bengaluru   \n",
       "1              Shell India Markets Private Limited             Chennai   \n",
       "2                                   Decision Point             Gurgaon   \n",
       "3                           Talent Stock Solutions               Delhi   \n",
       "4               Zen3Tech (A Tech Mahindra Company)           Hyderabad   \n",
       "\n",
       "  Experience                                             Skills  \n",
       "0    2-7 Yrs  Data Science\\nArtificial Intelligence\\ntrainin...  \n",
       "1    5-7 Yrs  Data Science\\nMultivariate Analysis\\nFactor An...  \n",
       "2    3-5 Yrs  Azure\\ntimeseries forecasting\\nMachine Learnin...  \n",
       "3    2-5 Yrs  Data Science\\nR\\nC\\nData Scientist\\nStatistica...  \n",
       "4    3-8 Yrs  R\\nA/B Testing\\nData Manipulation\\nMachine Lea...  "
      ]
     },
     "execution_count": 46,
     "metadata": {},
     "output_type": "execute_result"
    }
   ],
   "source": [
    "df1=pd.read_csv('dataseta.csv')\n",
    "df1.head()"
   ]
  },
  {
   "cell_type": "code",
   "execution_count": 47,
   "id": "6e177a3c",
   "metadata": {},
   "outputs": [
    {
     "data": {
      "text/plain": [
       "(1282, 5)"
      ]
     },
     "execution_count": 47,
     "metadata": {},
     "output_type": "execute_result"
    }
   ],
   "source": [
    "df1.shape"
   ]
  },
  {
   "cell_type": "code",
   "execution_count": 48,
   "id": "9caea270",
   "metadata": {},
   "outputs": [
    {
     "data": {
      "text/html": [
       "<div>\n",
       "<style scoped>\n",
       "    .dataframe tbody tr th:only-of-type {\n",
       "        vertical-align: middle;\n",
       "    }\n",
       "\n",
       "    .dataframe tbody tr th {\n",
       "        vertical-align: top;\n",
       "    }\n",
       "\n",
       "    .dataframe thead th {\n",
       "        text-align: right;\n",
       "    }\n",
       "</style>\n",
       "<table border=\"1\" class=\"dataframe\">\n",
       "  <thead>\n",
       "    <tr style=\"text-align: right;\">\n",
       "      <th></th>\n",
       "      <th>Role</th>\n",
       "      <th>Companies</th>\n",
       "      <th>Location</th>\n",
       "      <th>Experience</th>\n",
       "      <th>Skills</th>\n",
       "    </tr>\n",
       "  </thead>\n",
       "  <tbody>\n",
       "    <tr>\n",
       "      <th>0</th>\n",
       "      <td>Data Science/analysis Expert - Machine Learning</td>\n",
       "      <td>Catalyst</td>\n",
       "      <td>Bengaluru</td>\n",
       "      <td>2-6 Yrs</td>\n",
       "      <td>IT Skills\\nPython\\nData Science\\nMachine Learn...</td>\n",
       "    </tr>\n",
       "    <tr>\n",
       "      <th>1</th>\n",
       "      <td>Internship ON Python DATA Science AND Machine ...</td>\n",
       "      <td>Wozti Infotech</td>\n",
       "      <td>Thrissur, Kozhikode, Kochi</td>\n",
       "      <td>0-1 Yrs</td>\n",
       "      <td>IT Skills\\nData Science\\nData sc\\nPython</td>\n",
       "    </tr>\n",
       "    <tr>\n",
       "      <th>2</th>\n",
       "      <td>Data Science &amp; Machine Learning Engineer</td>\n",
       "      <td>Pactera Technologies India Private Limited</td>\n",
       "      <td>Hyderabad</td>\n",
       "      <td>2-5 Yrs</td>\n",
       "      <td>Decision Trees\\nMachine Learning\\nPython\\nIT S...</td>\n",
       "    </tr>\n",
       "    <tr>\n",
       "      <th>3</th>\n",
       "      <td>Data Science Engineer - ETL/Python/R</td>\n",
       "      <td>DATA LABS</td>\n",
       "      <td>Pune</td>\n",
       "      <td>0-1 Yrs</td>\n",
       "      <td>IT Skills\\nPython\\nTesting\\nTableau\\nData Scie...</td>\n",
       "    </tr>\n",
       "    <tr>\n",
       "      <th>4</th>\n",
       "      <td>Data Science - Intern</td>\n",
       "      <td>zeotap</td>\n",
       "      <td>Bengaluru</td>\n",
       "      <td>0-1 Yrs</td>\n",
       "      <td>Computer science\\nHealth insurance\\nISO 27001\\...</td>\n",
       "    </tr>\n",
       "  </tbody>\n",
       "</table>\n",
       "</div>"
      ],
      "text/plain": [
       "                                                Role  \\\n",
       "0    Data Science/analysis Expert - Machine Learning   \n",
       "1  Internship ON Python DATA Science AND Machine ...   \n",
       "2           Data Science & Machine Learning Engineer   \n",
       "3               Data Science Engineer - ETL/Python/R   \n",
       "4                              Data Science - Intern   \n",
       "\n",
       "                                    Companies                    Location  \\\n",
       "0                                    Catalyst                   Bengaluru   \n",
       "1                             Wozti Infotech   Thrissur, Kozhikode, Kochi   \n",
       "2  Pactera Technologies India Private Limited                   Hyderabad   \n",
       "3                                   DATA LABS                        Pune   \n",
       "4                                      zeotap                   Bengaluru   \n",
       "\n",
       "  Experience                                             Skills  \n",
       "0    2-6 Yrs  IT Skills\\nPython\\nData Science\\nMachine Learn...  \n",
       "1    0-1 Yrs           IT Skills\\nData Science\\nData sc\\nPython  \n",
       "2    2-5 Yrs  Decision Trees\\nMachine Learning\\nPython\\nIT S...  \n",
       "3    0-1 Yrs  IT Skills\\nPython\\nTesting\\nTableau\\nData Scie...  \n",
       "4    0-1 Yrs  Computer science\\nHealth insurance\\nISO 27001\\...  "
      ]
     },
     "execution_count": 48,
     "metadata": {},
     "output_type": "execute_result"
    }
   ],
   "source": [
    "df2=pd.read_csv('datasetb.csv')\n",
    "df2.head()"
   ]
  },
  {
   "cell_type": "code",
   "execution_count": 49,
   "id": "9ef4a0f5",
   "metadata": {},
   "outputs": [
    {
     "data": {
      "text/plain": [
       "(565, 5)"
      ]
     },
     "execution_count": 49,
     "metadata": {},
     "output_type": "execute_result"
    }
   ],
   "source": [
    "df2.shape"
   ]
  },
  {
   "cell_type": "code",
   "execution_count": 50,
   "id": "d4b1e23e",
   "metadata": {},
   "outputs": [
    {
     "data": {
      "text/html": [
       "<div>\n",
       "<style scoped>\n",
       "    .dataframe tbody tr th:only-of-type {\n",
       "        vertical-align: middle;\n",
       "    }\n",
       "\n",
       "    .dataframe tbody tr th {\n",
       "        vertical-align: top;\n",
       "    }\n",
       "\n",
       "    .dataframe thead th {\n",
       "        text-align: right;\n",
       "    }\n",
       "</style>\n",
       "<table border=\"1\" class=\"dataframe\">\n",
       "  <thead>\n",
       "    <tr style=\"text-align: right;\">\n",
       "      <th></th>\n",
       "      <th>Role</th>\n",
       "      <th>Companies</th>\n",
       "      <th>Location</th>\n",
       "      <th>Experience</th>\n",
       "      <th>Skills</th>\n",
       "    </tr>\n",
       "  </thead>\n",
       "  <tbody>\n",
       "    <tr>\n",
       "      <th>0</th>\n",
       "      <td>Data Scientist/ Academic Counselor</td>\n",
       "      <td>GREAT LAKES E-LEARNING SERVICES PRIVATE LIMITED</td>\n",
       "      <td>Chennai, Bengaluru</td>\n",
       "      <td>2-7 Yrs</td>\n",
       "      <td>Data Science\\nArtificial Intelligence\\ntrainin...</td>\n",
       "    </tr>\n",
       "    <tr>\n",
       "      <th>1</th>\n",
       "      <td>Data Scientist/ Academic Counselor</td>\n",
       "      <td>GREAT LAKES E-LEARNING SERVICES PRIVATE LIMITED</td>\n",
       "      <td>Chennai, Bengaluru</td>\n",
       "      <td>2-7 Yrs</td>\n",
       "      <td>Data Science\\nArtificial Intelligence\\ntrainin...</td>\n",
       "    </tr>\n",
       "    <tr>\n",
       "      <th>2</th>\n",
       "      <td>Data Scientist</td>\n",
       "      <td>Shell India Markets Private Limited</td>\n",
       "      <td>Chennai</td>\n",
       "      <td>5-7 Yrs</td>\n",
       "      <td>Data Science\\nMultivariate Analysis\\nFactor An...</td>\n",
       "    </tr>\n",
       "    <tr>\n",
       "      <th>3</th>\n",
       "      <td>Data Scientist</td>\n",
       "      <td>Shell India Markets Private Limited</td>\n",
       "      <td>Chennai</td>\n",
       "      <td>5-7 Yrs</td>\n",
       "      <td>Data Science\\nMultivariate Analysis\\nFactor An...</td>\n",
       "    </tr>\n",
       "    <tr>\n",
       "      <th>4</th>\n",
       "      <td>Senior Data Scientist</td>\n",
       "      <td>Decision Point</td>\n",
       "      <td>Gurgaon</td>\n",
       "      <td>3-5 Yrs</td>\n",
       "      <td>Azure\\ntimeseries forecasting\\nMachine Learnin...</td>\n",
       "    </tr>\n",
       "  </tbody>\n",
       "</table>\n",
       "</div>"
      ],
      "text/plain": [
       "                                 Role  \\\n",
       "0  Data Scientist/ Academic Counselor   \n",
       "1  Data Scientist/ Academic Counselor   \n",
       "2                      Data Scientist   \n",
       "3                      Data Scientist   \n",
       "4               Senior Data Scientist   \n",
       "\n",
       "                                         Companies            Location  \\\n",
       "0  GREAT LAKES E-LEARNING SERVICES PRIVATE LIMITED  Chennai, Bengaluru   \n",
       "1  GREAT LAKES E-LEARNING SERVICES PRIVATE LIMITED  Chennai, Bengaluru   \n",
       "2              Shell India Markets Private Limited             Chennai   \n",
       "3              Shell India Markets Private Limited             Chennai   \n",
       "4                                   Decision Point             Gurgaon   \n",
       "\n",
       "  Experience                                             Skills  \n",
       "0    2-7 Yrs  Data Science\\nArtificial Intelligence\\ntrainin...  \n",
       "1    2-7 Yrs  Data Science\\nArtificial Intelligence\\ntrainin...  \n",
       "2    5-7 Yrs  Data Science\\nMultivariate Analysis\\nFactor An...  \n",
       "3    5-7 Yrs  Data Science\\nMultivariate Analysis\\nFactor An...  \n",
       "4    3-5 Yrs  Azure\\ntimeseries forecasting\\nMachine Learnin...  "
      ]
     },
     "execution_count": 50,
     "metadata": {},
     "output_type": "execute_result"
    }
   ],
   "source": [
    "dff=df1.merge(df2,how='outer')\n",
    "dff.head()"
   ]
  },
  {
   "cell_type": "code",
   "execution_count": 51,
   "id": "407160a6",
   "metadata": {},
   "outputs": [
    {
     "data": {
      "text/plain": [
       "(1828, 5)"
      ]
     },
     "execution_count": 51,
     "metadata": {},
     "output_type": "execute_result"
    }
   ],
   "source": [
    "dff.shape"
   ]
  },
  {
   "cell_type": "code",
   "execution_count": 52,
   "id": "80df0afb",
   "metadata": {},
   "outputs": [
    {
     "data": {
      "text/plain": [
       "Role           0\n",
       "Companies      0\n",
       "Location       0\n",
       "Experience    16\n",
       "Skills        19\n",
       "dtype: int64"
      ]
     },
     "execution_count": 52,
     "metadata": {},
     "output_type": "execute_result"
    }
   ],
   "source": [
    "dff.isnull().sum()"
   ]
  },
  {
   "cell_type": "code",
   "execution_count": 53,
   "id": "370480ef",
   "metadata": {},
   "outputs": [],
   "source": [
    "dff['Experience'].fillna('0 Yrs',inplace=True)"
   ]
  },
  {
   "cell_type": "code",
   "execution_count": 54,
   "id": "f07b0da7",
   "metadata": {},
   "outputs": [
    {
     "data": {
      "text/plain": [
       "Role           0\n",
       "Companies      0\n",
       "Location       0\n",
       "Experience     0\n",
       "Skills        19\n",
       "dtype: int64"
      ]
     },
     "execution_count": 54,
     "metadata": {},
     "output_type": "execute_result"
    }
   ],
   "source": [
    "dff.isnull().sum()"
   ]
  },
  {
   "cell_type": "code",
   "execution_count": 55,
   "id": "3edf911b",
   "metadata": {},
   "outputs": [],
   "source": [
    "dff['Skills']=dff['Skills'].fillna('Basics of DS')"
   ]
  },
  {
   "cell_type": "code",
   "execution_count": 56,
   "id": "5c62899c",
   "metadata": {},
   "outputs": [
    {
     "data": {
      "text/plain": [
       "Role          0\n",
       "Companies     0\n",
       "Location      0\n",
       "Experience    0\n",
       "Skills        0\n",
       "dtype: int64"
      ]
     },
     "execution_count": 56,
     "metadata": {},
     "output_type": "execute_result"
    }
   ],
   "source": [
    "dff.isnull().sum()"
   ]
  },
  {
   "cell_type": "code",
   "execution_count": 57,
   "id": "c023ab92",
   "metadata": {},
   "outputs": [
    {
     "data": {
      "text/html": [
       "<div>\n",
       "<style scoped>\n",
       "    .dataframe tbody tr th:only-of-type {\n",
       "        vertical-align: middle;\n",
       "    }\n",
       "\n",
       "    .dataframe tbody tr th {\n",
       "        vertical-align: top;\n",
       "    }\n",
       "\n",
       "    .dataframe thead th {\n",
       "        text-align: right;\n",
       "    }\n",
       "</style>\n",
       "<table border=\"1\" class=\"dataframe\">\n",
       "  <thead>\n",
       "    <tr style=\"text-align: right;\">\n",
       "      <th></th>\n",
       "      <th>Role</th>\n",
       "      <th>Companies</th>\n",
       "      <th>Location</th>\n",
       "      <th>Experience</th>\n",
       "      <th>Skills</th>\n",
       "    </tr>\n",
       "  </thead>\n",
       "  <tbody>\n",
       "    <tr>\n",
       "      <th>1</th>\n",
       "      <td>Data Scientist/ Academic Counselor</td>\n",
       "      <td>GREAT LAKES E-LEARNING SERVICES PRIVATE LIMITED</td>\n",
       "      <td>Chennai, Bengaluru</td>\n",
       "      <td>2-7 Yrs</td>\n",
       "      <td>Data Science\\nArtificial Intelligence\\ntrainin...</td>\n",
       "    </tr>\n",
       "    <tr>\n",
       "      <th>3</th>\n",
       "      <td>Data Scientist</td>\n",
       "      <td>Shell India Markets Private Limited</td>\n",
       "      <td>Chennai</td>\n",
       "      <td>5-7 Yrs</td>\n",
       "      <td>Data Science\\nMultivariate Analysis\\nFactor An...</td>\n",
       "    </tr>\n",
       "    <tr>\n",
       "      <th>5</th>\n",
       "      <td>Senior Data Scientist</td>\n",
       "      <td>Decision Point</td>\n",
       "      <td>Gurgaon</td>\n",
       "      <td>3-5 Yrs</td>\n",
       "      <td>Azure\\ntimeseries forecasting\\nMachine Learnin...</td>\n",
       "    </tr>\n",
       "    <tr>\n",
       "      <th>7</th>\n",
       "      <td>Data Scientist - Machine Learning &amp; Statistica...</td>\n",
       "      <td>Talent Stock Solutions</td>\n",
       "      <td>Delhi</td>\n",
       "      <td>2-5 Yrs</td>\n",
       "      <td>Data Science\\nR\\nC\\nData Scientist\\nStatistica...</td>\n",
       "    </tr>\n",
       "    <tr>\n",
       "      <th>9</th>\n",
       "      <td>Data Scientist</td>\n",
       "      <td>Zen3Tech (A Tech Mahindra Company)</td>\n",
       "      <td>Hyderabad</td>\n",
       "      <td>3-8 Yrs</td>\n",
       "      <td>R\\nA/B Testing\\nData Manipulation\\nMachine Lea...</td>\n",
       "    </tr>\n",
       "    <tr>\n",
       "      <th>...</th>\n",
       "      <td>...</td>\n",
       "      <td>...</td>\n",
       "      <td>...</td>\n",
       "      <td>...</td>\n",
       "      <td>...</td>\n",
       "    </tr>\n",
       "    <tr>\n",
       "      <th>1711</th>\n",
       "      <td>Chief Data Scientist with an Leading Learning ...</td>\n",
       "      <td>SKILLVENTORY</td>\n",
       "      <td>Bengaluru</td>\n",
       "      <td>10-20 Yrs</td>\n",
       "      <td>Data Science\\nR\\nData Mining\\nPython</td>\n",
       "    </tr>\n",
       "    <tr>\n",
       "      <th>1713</th>\n",
       "      <td>Senior Data Scientist</td>\n",
       "      <td>Flipkart</td>\n",
       "      <td>Bengaluru</td>\n",
       "      <td>2-7 Yrs</td>\n",
       "      <td>Pytorch\\nTensorflow\\nData Science\\nNLP\\nAlgori...</td>\n",
       "    </tr>\n",
       "    <tr>\n",
       "      <th>1715</th>\n",
       "      <td>Data Scientist | Contract on Deloitte Payroll ...</td>\n",
       "      <td>Deloitte</td>\n",
       "      <td>Bengaluru</td>\n",
       "      <td>7-12 Yrs</td>\n",
       "      <td>Data Science\\nPredictive Modeling\\nLogistic Re...</td>\n",
       "    </tr>\n",
       "    <tr>\n",
       "      <th>1728</th>\n",
       "      <td>MIS Executive / Data Analyst / Research Analyt...</td>\n",
       "      <td>GABA Consultancy services</td>\n",
       "      <td>Faridabad, Delhi NCR, Ghaziabad</td>\n",
       "      <td>0-5 Yrs</td>\n",
       "      <td>fresher data analyst\\nPower Bi\\nProcess Analys...</td>\n",
       "    </tr>\n",
       "    <tr>\n",
       "      <th>1816</th>\n",
       "      <td>Graduate Engineer Trainee</td>\n",
       "      <td>National Payments Corporation of India</td>\n",
       "      <td>Chennai, Mumbai, Hyderabad</td>\n",
       "      <td>0-2 Yrs</td>\n",
       "      <td>Data Science\\nGo Getter\\nEmerging Technologies...</td>\n",
       "    </tr>\n",
       "  </tbody>\n",
       "</table>\n",
       "<p>318 rows × 5 columns</p>\n",
       "</div>"
      ],
      "text/plain": [
       "                                                   Role  \\\n",
       "1                    Data Scientist/ Academic Counselor   \n",
       "3                                        Data Scientist   \n",
       "5                                 Senior Data Scientist   \n",
       "7     Data Scientist - Machine Learning & Statistica...   \n",
       "9                                        Data Scientist   \n",
       "...                                                 ...   \n",
       "1711  Chief Data Scientist with an Leading Learning ...   \n",
       "1713                              Senior Data Scientist   \n",
       "1715  Data Scientist | Contract on Deloitte Payroll ...   \n",
       "1728  MIS Executive / Data Analyst / Research Analyt...   \n",
       "1816                          Graduate Engineer Trainee   \n",
       "\n",
       "                                            Companies  \\\n",
       "1     GREAT LAKES E-LEARNING SERVICES PRIVATE LIMITED   \n",
       "3                 Shell India Markets Private Limited   \n",
       "5                                      Decision Point   \n",
       "7                              Talent Stock Solutions   \n",
       "9                  Zen3Tech (A Tech Mahindra Company)   \n",
       "...                                               ...   \n",
       "1711                                     SKILLVENTORY   \n",
       "1713                                         Flipkart   \n",
       "1715                                         Deloitte   \n",
       "1728                       GABA Consultancy services    \n",
       "1816           National Payments Corporation of India   \n",
       "\n",
       "                             Location Experience  \\\n",
       "1                  Chennai, Bengaluru    2-7 Yrs   \n",
       "3                             Chennai    5-7 Yrs   \n",
       "5                             Gurgaon    3-5 Yrs   \n",
       "7                               Delhi    2-5 Yrs   \n",
       "9                           Hyderabad    3-8 Yrs   \n",
       "...                               ...        ...   \n",
       "1711                        Bengaluru  10-20 Yrs   \n",
       "1713                        Bengaluru    2-7 Yrs   \n",
       "1715                        Bengaluru   7-12 Yrs   \n",
       "1728  Faridabad, Delhi NCR, Ghaziabad    0-5 Yrs   \n",
       "1816       Chennai, Mumbai, Hyderabad    0-2 Yrs   \n",
       "\n",
       "                                                 Skills  \n",
       "1     Data Science\\nArtificial Intelligence\\ntrainin...  \n",
       "3     Data Science\\nMultivariate Analysis\\nFactor An...  \n",
       "5     Azure\\ntimeseries forecasting\\nMachine Learnin...  \n",
       "7     Data Science\\nR\\nC\\nData Scientist\\nStatistica...  \n",
       "9     R\\nA/B Testing\\nData Manipulation\\nMachine Lea...  \n",
       "...                                                 ...  \n",
       "1711               Data Science\\nR\\nData Mining\\nPython  \n",
       "1713  Pytorch\\nTensorflow\\nData Science\\nNLP\\nAlgori...  \n",
       "1715  Data Science\\nPredictive Modeling\\nLogistic Re...  \n",
       "1728  fresher data analyst\\nPower Bi\\nProcess Analys...  \n",
       "1816  Data Science\\nGo Getter\\nEmerging Technologies...  \n",
       "\n",
       "[318 rows x 5 columns]"
      ]
     },
     "execution_count": 57,
     "metadata": {},
     "output_type": "execute_result"
    }
   ],
   "source": [
    "dff[dff.duplicated()]"
   ]
  },
  {
   "cell_type": "code",
   "execution_count": 58,
   "id": "af670861",
   "metadata": {},
   "outputs": [],
   "source": [
    "dff=dff.drop_duplicates()"
   ]
  },
  {
   "cell_type": "code",
   "execution_count": 59,
   "id": "0acd683f",
   "metadata": {},
   "outputs": [
    {
     "data": {
      "text/html": [
       "<div>\n",
       "<style scoped>\n",
       "    .dataframe tbody tr th:only-of-type {\n",
       "        vertical-align: middle;\n",
       "    }\n",
       "\n",
       "    .dataframe tbody tr th {\n",
       "        vertical-align: top;\n",
       "    }\n",
       "\n",
       "    .dataframe thead th {\n",
       "        text-align: right;\n",
       "    }\n",
       "</style>\n",
       "<table border=\"1\" class=\"dataframe\">\n",
       "  <thead>\n",
       "    <tr style=\"text-align: right;\">\n",
       "      <th></th>\n",
       "      <th>Role</th>\n",
       "      <th>Companies</th>\n",
       "      <th>Location</th>\n",
       "      <th>Experience</th>\n",
       "      <th>Skills</th>\n",
       "    </tr>\n",
       "  </thead>\n",
       "  <tbody>\n",
       "  </tbody>\n",
       "</table>\n",
       "</div>"
      ],
      "text/plain": [
       "Empty DataFrame\n",
       "Columns: [Role, Companies, Location, Experience, Skills]\n",
       "Index: []"
      ]
     },
     "execution_count": 59,
     "metadata": {},
     "output_type": "execute_result"
    }
   ],
   "source": [
    "dff[dff.duplicated()]"
   ]
  },
  {
   "cell_type": "code",
   "execution_count": 60,
   "id": "48956808",
   "metadata": {},
   "outputs": [
    {
     "data": {
      "text/plain": [
       "(1510, 5)"
      ]
     },
     "execution_count": 60,
     "metadata": {},
     "output_type": "execute_result"
    }
   ],
   "source": [
    "dff.shape"
   ]
  },
  {
   "cell_type": "code",
   "execution_count": 61,
   "id": "9ceefb9e",
   "metadata": {},
   "outputs": [
    {
     "data": {
      "text/html": [
       "<div>\n",
       "<style scoped>\n",
       "    .dataframe tbody tr th:only-of-type {\n",
       "        vertical-align: middle;\n",
       "    }\n",
       "\n",
       "    .dataframe tbody tr th {\n",
       "        vertical-align: top;\n",
       "    }\n",
       "\n",
       "    .dataframe thead th {\n",
       "        text-align: right;\n",
       "    }\n",
       "</style>\n",
       "<table border=\"1\" class=\"dataframe\">\n",
       "  <thead>\n",
       "    <tr style=\"text-align: right;\">\n",
       "      <th></th>\n",
       "      <th>Role</th>\n",
       "      <th>Companies</th>\n",
       "      <th>Location</th>\n",
       "      <th>Experience</th>\n",
       "      <th>Skills</th>\n",
       "    </tr>\n",
       "  </thead>\n",
       "  <tbody>\n",
       "    <tr>\n",
       "      <th>0</th>\n",
       "      <td>Data Scientist/ Academic Counselor</td>\n",
       "      <td>GREAT LAKES E-LEARNING SERVICES PRIVATE LIMITED</td>\n",
       "      <td>Chennai, Bengaluru</td>\n",
       "      <td>2-7 Yrs</td>\n",
       "      <td>Data Science\\nArtificial Intelligence\\ntrainin...</td>\n",
       "    </tr>\n",
       "    <tr>\n",
       "      <th>2</th>\n",
       "      <td>Data Scientist</td>\n",
       "      <td>Shell India Markets Private Limited</td>\n",
       "      <td>Chennai</td>\n",
       "      <td>5-7 Yrs</td>\n",
       "      <td>Data Science\\nMultivariate Analysis\\nFactor An...</td>\n",
       "    </tr>\n",
       "    <tr>\n",
       "      <th>4</th>\n",
       "      <td>Senior Data Scientist</td>\n",
       "      <td>Decision Point</td>\n",
       "      <td>Gurgaon</td>\n",
       "      <td>3-5 Yrs</td>\n",
       "      <td>Azure\\ntimeseries forecasting\\nMachine Learnin...</td>\n",
       "    </tr>\n",
       "    <tr>\n",
       "      <th>6</th>\n",
       "      <td>Data Scientist - Machine Learning &amp; Statistica...</td>\n",
       "      <td>Talent Stock Solutions</td>\n",
       "      <td>Delhi</td>\n",
       "      <td>2-5 Yrs</td>\n",
       "      <td>Data Science\\nR\\nC\\nData Scientist\\nStatistica...</td>\n",
       "    </tr>\n",
       "    <tr>\n",
       "      <th>8</th>\n",
       "      <td>Data Scientist</td>\n",
       "      <td>Zen3Tech (A Tech Mahindra Company)</td>\n",
       "      <td>Hyderabad</td>\n",
       "      <td>3-8 Yrs</td>\n",
       "      <td>R\\nA/B Testing\\nData Manipulation\\nMachine Lea...</td>\n",
       "    </tr>\n",
       "  </tbody>\n",
       "</table>\n",
       "</div>"
      ],
      "text/plain": [
       "                                                Role  \\\n",
       "0                 Data Scientist/ Academic Counselor   \n",
       "2                                     Data Scientist   \n",
       "4                              Senior Data Scientist   \n",
       "6  Data Scientist - Machine Learning & Statistica...   \n",
       "8                                     Data Scientist   \n",
       "\n",
       "                                         Companies            Location  \\\n",
       "0  GREAT LAKES E-LEARNING SERVICES PRIVATE LIMITED  Chennai, Bengaluru   \n",
       "2              Shell India Markets Private Limited             Chennai   \n",
       "4                                   Decision Point             Gurgaon   \n",
       "6                           Talent Stock Solutions               Delhi   \n",
       "8               Zen3Tech (A Tech Mahindra Company)           Hyderabad   \n",
       "\n",
       "  Experience                                             Skills  \n",
       "0    2-7 Yrs  Data Science\\nArtificial Intelligence\\ntrainin...  \n",
       "2    5-7 Yrs  Data Science\\nMultivariate Analysis\\nFactor An...  \n",
       "4    3-5 Yrs  Azure\\ntimeseries forecasting\\nMachine Learnin...  \n",
       "6    2-5 Yrs  Data Science\\nR\\nC\\nData Scientist\\nStatistica...  \n",
       "8    3-8 Yrs  R\\nA/B Testing\\nData Manipulation\\nMachine Lea...  "
      ]
     },
     "execution_count": 61,
     "metadata": {},
     "output_type": "execute_result"
    }
   ],
   "source": [
    "dff.head()"
   ]
  }
 ],
 "metadata": {
  "kernelspec": {
   "display_name": "Python 3",
   "language": "python",
   "name": "python3"
  },
  "language_info": {
   "codemirror_mode": {
    "name": "ipython",
    "version": 3
   },
   "file_extension": ".py",
   "mimetype": "text/x-python",
   "name": "python",
   "nbconvert_exporter": "python",
   "pygments_lexer": "ipython3",
   "version": "3.8.8"
  }
 },
 "nbformat": 4,
 "nbformat_minor": 5
}
