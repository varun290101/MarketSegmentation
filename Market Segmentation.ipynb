{
 "cells": [
  {
   "cell_type": "code",
   "execution_count": 81,
   "id": "68b4142e",
   "metadata": {},
   "outputs": [],
   "source": [
    "import pandas as pd\n",
    "import matplotlib.pyplot as plt"
   ]
  },
  {
   "cell_type": "code",
   "execution_count": 2,
   "id": "1de1bdff",
   "metadata": {},
   "outputs": [
    {
     "data": {
      "text/html": [
       "<div>\n",
       "<style scoped>\n",
       "    .dataframe tbody tr th:only-of-type {\n",
       "        vertical-align: middle;\n",
       "    }\n",
       "\n",
       "    .dataframe tbody tr th {\n",
       "        vertical-align: top;\n",
       "    }\n",
       "\n",
       "    .dataframe thead th {\n",
       "        text-align: right;\n",
       "    }\n",
       "</style>\n",
       "<table border=\"1\" class=\"dataframe\">\n",
       "  <thead>\n",
       "    <tr style=\"text-align: right;\">\n",
       "      <th></th>\n",
       "      <th>Role</th>\n",
       "      <th>Companies</th>\n",
       "      <th>Location</th>\n",
       "      <th>Experience</th>\n",
       "      <th>Skills</th>\n",
       "    </tr>\n",
       "  </thead>\n",
       "  <tbody>\n",
       "    <tr>\n",
       "      <th>0</th>\n",
       "      <td>Data Scientist/ Academic Counselor</td>\n",
       "      <td>GREAT LAKES E-LEARNING SERVICES PRIVATE LIMITED</td>\n",
       "      <td>Chennai, Bengaluru</td>\n",
       "      <td>2-7 Yrs</td>\n",
       "      <td>Data Science\\nArtificial Intelligence\\ntrainin...</td>\n",
       "    </tr>\n",
       "    <tr>\n",
       "      <th>1</th>\n",
       "      <td>Data Scientist</td>\n",
       "      <td>Shell India Markets Private Limited</td>\n",
       "      <td>Chennai</td>\n",
       "      <td>5-7 Yrs</td>\n",
       "      <td>Data Science\\nMultivariate Analysis\\nFactor An...</td>\n",
       "    </tr>\n",
       "    <tr>\n",
       "      <th>2</th>\n",
       "      <td>Senior Data Scientist</td>\n",
       "      <td>Decision Point</td>\n",
       "      <td>Gurgaon</td>\n",
       "      <td>3-5 Yrs</td>\n",
       "      <td>Azure\\ntimeseries forecasting\\nMachine Learnin...</td>\n",
       "    </tr>\n",
       "    <tr>\n",
       "      <th>3</th>\n",
       "      <td>Data Scientist - Machine Learning &amp; Statistica...</td>\n",
       "      <td>Talent Stock Solutions</td>\n",
       "      <td>Delhi</td>\n",
       "      <td>2-5 Yrs</td>\n",
       "      <td>Data Science\\nR\\nC\\nData Scientist\\nStatistica...</td>\n",
       "    </tr>\n",
       "    <tr>\n",
       "      <th>4</th>\n",
       "      <td>Data Scientist</td>\n",
       "      <td>Zen3Tech (A Tech Mahindra Company)</td>\n",
       "      <td>Hyderabad</td>\n",
       "      <td>3-8 Yrs</td>\n",
       "      <td>R\\nA/B Testing\\nData Manipulation\\nMachine Lea...</td>\n",
       "    </tr>\n",
       "  </tbody>\n",
       "</table>\n",
       "</div>"
      ],
      "text/plain": [
       "                                                Role  \\\n",
       "0                 Data Scientist/ Academic Counselor   \n",
       "1                                     Data Scientist   \n",
       "2                              Senior Data Scientist   \n",
       "3  Data Scientist - Machine Learning & Statistica...   \n",
       "4                                     Data Scientist   \n",
       "\n",
       "                                         Companies            Location  \\\n",
       "0  GREAT LAKES E-LEARNING SERVICES PRIVATE LIMITED  Chennai, Bengaluru   \n",
       "1              Shell India Markets Private Limited             Chennai   \n",
       "2                                   Decision Point             Gurgaon   \n",
       "3                           Talent Stock Solutions               Delhi   \n",
       "4               Zen3Tech (A Tech Mahindra Company)           Hyderabad   \n",
       "\n",
       "  Experience                                             Skills  \n",
       "0    2-7 Yrs  Data Science\\nArtificial Intelligence\\ntrainin...  \n",
       "1    5-7 Yrs  Data Science\\nMultivariate Analysis\\nFactor An...  \n",
       "2    3-5 Yrs  Azure\\ntimeseries forecasting\\nMachine Learnin...  \n",
       "3    2-5 Yrs  Data Science\\nR\\nC\\nData Scientist\\nStatistica...  \n",
       "4    3-8 Yrs  R\\nA/B Testing\\nData Manipulation\\nMachine Lea...  "
      ]
     },
     "execution_count": 2,
     "metadata": {},
     "output_type": "execute_result"
    }
   ],
   "source": [
    "df1=pd.read_csv('dataseta.csv')\n",
    "df1.head()"
   ]
  },
  {
   "cell_type": "code",
   "execution_count": 3,
   "id": "6e177a3c",
   "metadata": {},
   "outputs": [
    {
     "data": {
      "text/plain": [
       "(1282, 5)"
      ]
     },
     "execution_count": 3,
     "metadata": {},
     "output_type": "execute_result"
    }
   ],
   "source": [
    "df1.shape"
   ]
  },
  {
   "cell_type": "code",
   "execution_count": 4,
   "id": "9caea270",
   "metadata": {},
   "outputs": [
    {
     "data": {
      "text/html": [
       "<div>\n",
       "<style scoped>\n",
       "    .dataframe tbody tr th:only-of-type {\n",
       "        vertical-align: middle;\n",
       "    }\n",
       "\n",
       "    .dataframe tbody tr th {\n",
       "        vertical-align: top;\n",
       "    }\n",
       "\n",
       "    .dataframe thead th {\n",
       "        text-align: right;\n",
       "    }\n",
       "</style>\n",
       "<table border=\"1\" class=\"dataframe\">\n",
       "  <thead>\n",
       "    <tr style=\"text-align: right;\">\n",
       "      <th></th>\n",
       "      <th>Role</th>\n",
       "      <th>Companies</th>\n",
       "      <th>Location</th>\n",
       "      <th>Experience</th>\n",
       "      <th>Skills</th>\n",
       "    </tr>\n",
       "  </thead>\n",
       "  <tbody>\n",
       "    <tr>\n",
       "      <th>0</th>\n",
       "      <td>Data Science/analysis Expert - Machine Learning</td>\n",
       "      <td>Catalyst</td>\n",
       "      <td>Bengaluru</td>\n",
       "      <td>2-6 Yrs</td>\n",
       "      <td>IT Skills\\nPython\\nData Science\\nMachine Learn...</td>\n",
       "    </tr>\n",
       "    <tr>\n",
       "      <th>1</th>\n",
       "      <td>Internship ON Python DATA Science AND Machine ...</td>\n",
       "      <td>Wozti Infotech</td>\n",
       "      <td>Thrissur, Kozhikode, Kochi</td>\n",
       "      <td>0-1 Yrs</td>\n",
       "      <td>IT Skills\\nData Science\\nData sc\\nPython</td>\n",
       "    </tr>\n",
       "    <tr>\n",
       "      <th>2</th>\n",
       "      <td>Data Science &amp; Machine Learning Engineer</td>\n",
       "      <td>Pactera Technologies India Private Limited</td>\n",
       "      <td>Hyderabad</td>\n",
       "      <td>2-5 Yrs</td>\n",
       "      <td>Decision Trees\\nMachine Learning\\nPython\\nIT S...</td>\n",
       "    </tr>\n",
       "    <tr>\n",
       "      <th>3</th>\n",
       "      <td>Data Science Engineer - ETL/Python/R</td>\n",
       "      <td>DATA LABS</td>\n",
       "      <td>Pune</td>\n",
       "      <td>0-1 Yrs</td>\n",
       "      <td>IT Skills\\nPython\\nTesting\\nTableau\\nData Scie...</td>\n",
       "    </tr>\n",
       "    <tr>\n",
       "      <th>4</th>\n",
       "      <td>Data Science - Intern</td>\n",
       "      <td>zeotap</td>\n",
       "      <td>Bengaluru</td>\n",
       "      <td>0-1 Yrs</td>\n",
       "      <td>Computer science\\nHealth insurance\\nISO 27001\\...</td>\n",
       "    </tr>\n",
       "  </tbody>\n",
       "</table>\n",
       "</div>"
      ],
      "text/plain": [
       "                                                Role  \\\n",
       "0    Data Science/analysis Expert - Machine Learning   \n",
       "1  Internship ON Python DATA Science AND Machine ...   \n",
       "2           Data Science & Machine Learning Engineer   \n",
       "3               Data Science Engineer - ETL/Python/R   \n",
       "4                              Data Science - Intern   \n",
       "\n",
       "                                    Companies                    Location  \\\n",
       "0                                    Catalyst                   Bengaluru   \n",
       "1                             Wozti Infotech   Thrissur, Kozhikode, Kochi   \n",
       "2  Pactera Technologies India Private Limited                   Hyderabad   \n",
       "3                                   DATA LABS                        Pune   \n",
       "4                                      zeotap                   Bengaluru   \n",
       "\n",
       "  Experience                                             Skills  \n",
       "0    2-6 Yrs  IT Skills\\nPython\\nData Science\\nMachine Learn...  \n",
       "1    0-1 Yrs           IT Skills\\nData Science\\nData sc\\nPython  \n",
       "2    2-5 Yrs  Decision Trees\\nMachine Learning\\nPython\\nIT S...  \n",
       "3    0-1 Yrs  IT Skills\\nPython\\nTesting\\nTableau\\nData Scie...  \n",
       "4    0-1 Yrs  Computer science\\nHealth insurance\\nISO 27001\\...  "
      ]
     },
     "execution_count": 4,
     "metadata": {},
     "output_type": "execute_result"
    }
   ],
   "source": [
    "df2=pd.read_csv('datasetb.csv')\n",
    "df2.head()"
   ]
  },
  {
   "cell_type": "code",
   "execution_count": 5,
   "id": "9ef4a0f5",
   "metadata": {},
   "outputs": [
    {
     "data": {
      "text/plain": [
       "(565, 5)"
      ]
     },
     "execution_count": 5,
     "metadata": {},
     "output_type": "execute_result"
    }
   ],
   "source": [
    "df2.shape"
   ]
  },
  {
   "cell_type": "code",
   "execution_count": 6,
   "id": "d4b1e23e",
   "metadata": {},
   "outputs": [
    {
     "data": {
      "text/html": [
       "<div>\n",
       "<style scoped>\n",
       "    .dataframe tbody tr th:only-of-type {\n",
       "        vertical-align: middle;\n",
       "    }\n",
       "\n",
       "    .dataframe tbody tr th {\n",
       "        vertical-align: top;\n",
       "    }\n",
       "\n",
       "    .dataframe thead th {\n",
       "        text-align: right;\n",
       "    }\n",
       "</style>\n",
       "<table border=\"1\" class=\"dataframe\">\n",
       "  <thead>\n",
       "    <tr style=\"text-align: right;\">\n",
       "      <th></th>\n",
       "      <th>Role</th>\n",
       "      <th>Companies</th>\n",
       "      <th>Location</th>\n",
       "      <th>Experience</th>\n",
       "      <th>Skills</th>\n",
       "    </tr>\n",
       "  </thead>\n",
       "  <tbody>\n",
       "    <tr>\n",
       "      <th>0</th>\n",
       "      <td>Data Scientist/ Academic Counselor</td>\n",
       "      <td>GREAT LAKES E-LEARNING SERVICES PRIVATE LIMITED</td>\n",
       "      <td>Chennai, Bengaluru</td>\n",
       "      <td>2-7 Yrs</td>\n",
       "      <td>Data Science\\nArtificial Intelligence\\ntrainin...</td>\n",
       "    </tr>\n",
       "    <tr>\n",
       "      <th>1</th>\n",
       "      <td>Data Scientist/ Academic Counselor</td>\n",
       "      <td>GREAT LAKES E-LEARNING SERVICES PRIVATE LIMITED</td>\n",
       "      <td>Chennai, Bengaluru</td>\n",
       "      <td>2-7 Yrs</td>\n",
       "      <td>Data Science\\nArtificial Intelligence\\ntrainin...</td>\n",
       "    </tr>\n",
       "    <tr>\n",
       "      <th>2</th>\n",
       "      <td>Data Scientist</td>\n",
       "      <td>Shell India Markets Private Limited</td>\n",
       "      <td>Chennai</td>\n",
       "      <td>5-7 Yrs</td>\n",
       "      <td>Data Science\\nMultivariate Analysis\\nFactor An...</td>\n",
       "    </tr>\n",
       "    <tr>\n",
       "      <th>3</th>\n",
       "      <td>Data Scientist</td>\n",
       "      <td>Shell India Markets Private Limited</td>\n",
       "      <td>Chennai</td>\n",
       "      <td>5-7 Yrs</td>\n",
       "      <td>Data Science\\nMultivariate Analysis\\nFactor An...</td>\n",
       "    </tr>\n",
       "    <tr>\n",
       "      <th>4</th>\n",
       "      <td>Senior Data Scientist</td>\n",
       "      <td>Decision Point</td>\n",
       "      <td>Gurgaon</td>\n",
       "      <td>3-5 Yrs</td>\n",
       "      <td>Azure\\ntimeseries forecasting\\nMachine Learnin...</td>\n",
       "    </tr>\n",
       "  </tbody>\n",
       "</table>\n",
       "</div>"
      ],
      "text/plain": [
       "                                 Role  \\\n",
       "0  Data Scientist/ Academic Counselor   \n",
       "1  Data Scientist/ Academic Counselor   \n",
       "2                      Data Scientist   \n",
       "3                      Data Scientist   \n",
       "4               Senior Data Scientist   \n",
       "\n",
       "                                         Companies            Location  \\\n",
       "0  GREAT LAKES E-LEARNING SERVICES PRIVATE LIMITED  Chennai, Bengaluru   \n",
       "1  GREAT LAKES E-LEARNING SERVICES PRIVATE LIMITED  Chennai, Bengaluru   \n",
       "2              Shell India Markets Private Limited             Chennai   \n",
       "3              Shell India Markets Private Limited             Chennai   \n",
       "4                                   Decision Point             Gurgaon   \n",
       "\n",
       "  Experience                                             Skills  \n",
       "0    2-7 Yrs  Data Science\\nArtificial Intelligence\\ntrainin...  \n",
       "1    2-7 Yrs  Data Science\\nArtificial Intelligence\\ntrainin...  \n",
       "2    5-7 Yrs  Data Science\\nMultivariate Analysis\\nFactor An...  \n",
       "3    5-7 Yrs  Data Science\\nMultivariate Analysis\\nFactor An...  \n",
       "4    3-5 Yrs  Azure\\ntimeseries forecasting\\nMachine Learnin...  "
      ]
     },
     "execution_count": 6,
     "metadata": {},
     "output_type": "execute_result"
    }
   ],
   "source": [
    "dff=df1.merge(df2,how='outer')\n",
    "dff.head()"
   ]
  },
  {
   "cell_type": "code",
   "execution_count": 7,
   "id": "407160a6",
   "metadata": {},
   "outputs": [
    {
     "data": {
      "text/plain": [
       "(1828, 5)"
      ]
     },
     "execution_count": 7,
     "metadata": {},
     "output_type": "execute_result"
    }
   ],
   "source": [
    "dff.shape"
   ]
  },
  {
   "cell_type": "code",
   "execution_count": 8,
   "id": "80df0afb",
   "metadata": {},
   "outputs": [
    {
     "data": {
      "text/plain": [
       "Role           0\n",
       "Companies      0\n",
       "Location       0\n",
       "Experience    16\n",
       "Skills        19\n",
       "dtype: int64"
      ]
     },
     "execution_count": 8,
     "metadata": {},
     "output_type": "execute_result"
    }
   ],
   "source": [
    "dff.isnull().sum()"
   ]
  },
  {
   "cell_type": "code",
   "execution_count": 9,
   "id": "370480ef",
   "metadata": {},
   "outputs": [],
   "source": [
    "dff['Experience'].fillna('0 Yrs',inplace=True)"
   ]
  },
  {
   "cell_type": "code",
   "execution_count": 10,
   "id": "f07b0da7",
   "metadata": {},
   "outputs": [
    {
     "data": {
      "text/plain": [
       "Role           0\n",
       "Companies      0\n",
       "Location       0\n",
       "Experience     0\n",
       "Skills        19\n",
       "dtype: int64"
      ]
     },
     "execution_count": 10,
     "metadata": {},
     "output_type": "execute_result"
    }
   ],
   "source": [
    "dff.isnull().sum()"
   ]
  },
  {
   "cell_type": "code",
   "execution_count": 11,
   "id": "3edf911b",
   "metadata": {},
   "outputs": [],
   "source": [
    "dff['Skills']=dff['Skills'].fillna('Basics of DS')"
   ]
  },
  {
   "cell_type": "code",
   "execution_count": 12,
   "id": "5c62899c",
   "metadata": {},
   "outputs": [
    {
     "data": {
      "text/plain": [
       "Role          0\n",
       "Companies     0\n",
       "Location      0\n",
       "Experience    0\n",
       "Skills        0\n",
       "dtype: int64"
      ]
     },
     "execution_count": 12,
     "metadata": {},
     "output_type": "execute_result"
    }
   ],
   "source": [
    "dff.isnull().sum()"
   ]
  },
  {
   "cell_type": "code",
   "execution_count": 13,
   "id": "c023ab92",
   "metadata": {},
   "outputs": [
    {
     "data": {
      "text/html": [
       "<div>\n",
       "<style scoped>\n",
       "    .dataframe tbody tr th:only-of-type {\n",
       "        vertical-align: middle;\n",
       "    }\n",
       "\n",
       "    .dataframe tbody tr th {\n",
       "        vertical-align: top;\n",
       "    }\n",
       "\n",
       "    .dataframe thead th {\n",
       "        text-align: right;\n",
       "    }\n",
       "</style>\n",
       "<table border=\"1\" class=\"dataframe\">\n",
       "  <thead>\n",
       "    <tr style=\"text-align: right;\">\n",
       "      <th></th>\n",
       "      <th>Role</th>\n",
       "      <th>Companies</th>\n",
       "      <th>Location</th>\n",
       "      <th>Experience</th>\n",
       "      <th>Skills</th>\n",
       "    </tr>\n",
       "  </thead>\n",
       "  <tbody>\n",
       "    <tr>\n",
       "      <th>1</th>\n",
       "      <td>Data Scientist/ Academic Counselor</td>\n",
       "      <td>GREAT LAKES E-LEARNING SERVICES PRIVATE LIMITED</td>\n",
       "      <td>Chennai, Bengaluru</td>\n",
       "      <td>2-7 Yrs</td>\n",
       "      <td>Data Science\\nArtificial Intelligence\\ntrainin...</td>\n",
       "    </tr>\n",
       "    <tr>\n",
       "      <th>3</th>\n",
       "      <td>Data Scientist</td>\n",
       "      <td>Shell India Markets Private Limited</td>\n",
       "      <td>Chennai</td>\n",
       "      <td>5-7 Yrs</td>\n",
       "      <td>Data Science\\nMultivariate Analysis\\nFactor An...</td>\n",
       "    </tr>\n",
       "    <tr>\n",
       "      <th>5</th>\n",
       "      <td>Senior Data Scientist</td>\n",
       "      <td>Decision Point</td>\n",
       "      <td>Gurgaon</td>\n",
       "      <td>3-5 Yrs</td>\n",
       "      <td>Azure\\ntimeseries forecasting\\nMachine Learnin...</td>\n",
       "    </tr>\n",
       "    <tr>\n",
       "      <th>7</th>\n",
       "      <td>Data Scientist - Machine Learning &amp; Statistica...</td>\n",
       "      <td>Talent Stock Solutions</td>\n",
       "      <td>Delhi</td>\n",
       "      <td>2-5 Yrs</td>\n",
       "      <td>Data Science\\nR\\nC\\nData Scientist\\nStatistica...</td>\n",
       "    </tr>\n",
       "    <tr>\n",
       "      <th>9</th>\n",
       "      <td>Data Scientist</td>\n",
       "      <td>Zen3Tech (A Tech Mahindra Company)</td>\n",
       "      <td>Hyderabad</td>\n",
       "      <td>3-8 Yrs</td>\n",
       "      <td>R\\nA/B Testing\\nData Manipulation\\nMachine Lea...</td>\n",
       "    </tr>\n",
       "    <tr>\n",
       "      <th>...</th>\n",
       "      <td>...</td>\n",
       "      <td>...</td>\n",
       "      <td>...</td>\n",
       "      <td>...</td>\n",
       "      <td>...</td>\n",
       "    </tr>\n",
       "    <tr>\n",
       "      <th>1711</th>\n",
       "      <td>Chief Data Scientist with an Leading Learning ...</td>\n",
       "      <td>SKILLVENTORY</td>\n",
       "      <td>Bengaluru</td>\n",
       "      <td>10-20 Yrs</td>\n",
       "      <td>Data Science\\nR\\nData Mining\\nPython</td>\n",
       "    </tr>\n",
       "    <tr>\n",
       "      <th>1713</th>\n",
       "      <td>Senior Data Scientist</td>\n",
       "      <td>Flipkart</td>\n",
       "      <td>Bengaluru</td>\n",
       "      <td>2-7 Yrs</td>\n",
       "      <td>Pytorch\\nTensorflow\\nData Science\\nNLP\\nAlgori...</td>\n",
       "    </tr>\n",
       "    <tr>\n",
       "      <th>1715</th>\n",
       "      <td>Data Scientist | Contract on Deloitte Payroll ...</td>\n",
       "      <td>Deloitte</td>\n",
       "      <td>Bengaluru</td>\n",
       "      <td>7-12 Yrs</td>\n",
       "      <td>Data Science\\nPredictive Modeling\\nLogistic Re...</td>\n",
       "    </tr>\n",
       "    <tr>\n",
       "      <th>1728</th>\n",
       "      <td>MIS Executive / Data Analyst / Research Analyt...</td>\n",
       "      <td>GABA Consultancy services</td>\n",
       "      <td>Faridabad, Delhi NCR, Ghaziabad</td>\n",
       "      <td>0-5 Yrs</td>\n",
       "      <td>fresher data analyst\\nPower Bi\\nProcess Analys...</td>\n",
       "    </tr>\n",
       "    <tr>\n",
       "      <th>1816</th>\n",
       "      <td>Graduate Engineer Trainee</td>\n",
       "      <td>National Payments Corporation of India</td>\n",
       "      <td>Chennai, Mumbai, Hyderabad</td>\n",
       "      <td>0-2 Yrs</td>\n",
       "      <td>Data Science\\nGo Getter\\nEmerging Technologies...</td>\n",
       "    </tr>\n",
       "  </tbody>\n",
       "</table>\n",
       "<p>318 rows × 5 columns</p>\n",
       "</div>"
      ],
      "text/plain": [
       "                                                   Role  \\\n",
       "1                    Data Scientist/ Academic Counselor   \n",
       "3                                        Data Scientist   \n",
       "5                                 Senior Data Scientist   \n",
       "7     Data Scientist - Machine Learning & Statistica...   \n",
       "9                                        Data Scientist   \n",
       "...                                                 ...   \n",
       "1711  Chief Data Scientist with an Leading Learning ...   \n",
       "1713                              Senior Data Scientist   \n",
       "1715  Data Scientist | Contract on Deloitte Payroll ...   \n",
       "1728  MIS Executive / Data Analyst / Research Analyt...   \n",
       "1816                          Graduate Engineer Trainee   \n",
       "\n",
       "                                            Companies  \\\n",
       "1     GREAT LAKES E-LEARNING SERVICES PRIVATE LIMITED   \n",
       "3                 Shell India Markets Private Limited   \n",
       "5                                      Decision Point   \n",
       "7                              Talent Stock Solutions   \n",
       "9                  Zen3Tech (A Tech Mahindra Company)   \n",
       "...                                               ...   \n",
       "1711                                     SKILLVENTORY   \n",
       "1713                                         Flipkart   \n",
       "1715                                         Deloitte   \n",
       "1728                       GABA Consultancy services    \n",
       "1816           National Payments Corporation of India   \n",
       "\n",
       "                             Location Experience  \\\n",
       "1                  Chennai, Bengaluru    2-7 Yrs   \n",
       "3                             Chennai    5-7 Yrs   \n",
       "5                             Gurgaon    3-5 Yrs   \n",
       "7                               Delhi    2-5 Yrs   \n",
       "9                           Hyderabad    3-8 Yrs   \n",
       "...                               ...        ...   \n",
       "1711                        Bengaluru  10-20 Yrs   \n",
       "1713                        Bengaluru    2-7 Yrs   \n",
       "1715                        Bengaluru   7-12 Yrs   \n",
       "1728  Faridabad, Delhi NCR, Ghaziabad    0-5 Yrs   \n",
       "1816       Chennai, Mumbai, Hyderabad    0-2 Yrs   \n",
       "\n",
       "                                                 Skills  \n",
       "1     Data Science\\nArtificial Intelligence\\ntrainin...  \n",
       "3     Data Science\\nMultivariate Analysis\\nFactor An...  \n",
       "5     Azure\\ntimeseries forecasting\\nMachine Learnin...  \n",
       "7     Data Science\\nR\\nC\\nData Scientist\\nStatistica...  \n",
       "9     R\\nA/B Testing\\nData Manipulation\\nMachine Lea...  \n",
       "...                                                 ...  \n",
       "1711               Data Science\\nR\\nData Mining\\nPython  \n",
       "1713  Pytorch\\nTensorflow\\nData Science\\nNLP\\nAlgori...  \n",
       "1715  Data Science\\nPredictive Modeling\\nLogistic Re...  \n",
       "1728  fresher data analyst\\nPower Bi\\nProcess Analys...  \n",
       "1816  Data Science\\nGo Getter\\nEmerging Technologies...  \n",
       "\n",
       "[318 rows x 5 columns]"
      ]
     },
     "execution_count": 13,
     "metadata": {},
     "output_type": "execute_result"
    }
   ],
   "source": [
    "dff[dff.duplicated()]"
   ]
  },
  {
   "cell_type": "code",
   "execution_count": 14,
   "id": "af670861",
   "metadata": {},
   "outputs": [],
   "source": [
    "dff=dff.drop_duplicates()"
   ]
  },
  {
   "cell_type": "code",
   "execution_count": 15,
   "id": "0acd683f",
   "metadata": {},
   "outputs": [
    {
     "data": {
      "text/html": [
       "<div>\n",
       "<style scoped>\n",
       "    .dataframe tbody tr th:only-of-type {\n",
       "        vertical-align: middle;\n",
       "    }\n",
       "\n",
       "    .dataframe tbody tr th {\n",
       "        vertical-align: top;\n",
       "    }\n",
       "\n",
       "    .dataframe thead th {\n",
       "        text-align: right;\n",
       "    }\n",
       "</style>\n",
       "<table border=\"1\" class=\"dataframe\">\n",
       "  <thead>\n",
       "    <tr style=\"text-align: right;\">\n",
       "      <th></th>\n",
       "      <th>Role</th>\n",
       "      <th>Companies</th>\n",
       "      <th>Location</th>\n",
       "      <th>Experience</th>\n",
       "      <th>Skills</th>\n",
       "    </tr>\n",
       "  </thead>\n",
       "  <tbody>\n",
       "  </tbody>\n",
       "</table>\n",
       "</div>"
      ],
      "text/plain": [
       "Empty DataFrame\n",
       "Columns: [Role, Companies, Location, Experience, Skills]\n",
       "Index: []"
      ]
     },
     "execution_count": 15,
     "metadata": {},
     "output_type": "execute_result"
    }
   ],
   "source": [
    "dff[dff.duplicated()]"
   ]
  },
  {
   "cell_type": "code",
   "execution_count": 16,
   "id": "48956808",
   "metadata": {},
   "outputs": [
    {
     "data": {
      "text/plain": [
       "(1510, 5)"
      ]
     },
     "execution_count": 16,
     "metadata": {},
     "output_type": "execute_result"
    }
   ],
   "source": [
    "dff.shape"
   ]
  },
  {
   "cell_type": "code",
   "execution_count": 17,
   "id": "9ceefb9e",
   "metadata": {},
   "outputs": [
    {
     "data": {
      "text/html": [
       "<div>\n",
       "<style scoped>\n",
       "    .dataframe tbody tr th:only-of-type {\n",
       "        vertical-align: middle;\n",
       "    }\n",
       "\n",
       "    .dataframe tbody tr th {\n",
       "        vertical-align: top;\n",
       "    }\n",
       "\n",
       "    .dataframe thead th {\n",
       "        text-align: right;\n",
       "    }\n",
       "</style>\n",
       "<table border=\"1\" class=\"dataframe\">\n",
       "  <thead>\n",
       "    <tr style=\"text-align: right;\">\n",
       "      <th></th>\n",
       "      <th>Role</th>\n",
       "      <th>Companies</th>\n",
       "      <th>Location</th>\n",
       "      <th>Experience</th>\n",
       "      <th>Skills</th>\n",
       "    </tr>\n",
       "  </thead>\n",
       "  <tbody>\n",
       "    <tr>\n",
       "      <th>0</th>\n",
       "      <td>Data Scientist/ Academic Counselor</td>\n",
       "      <td>GREAT LAKES E-LEARNING SERVICES PRIVATE LIMITED</td>\n",
       "      <td>Chennai, Bengaluru</td>\n",
       "      <td>2-7 Yrs</td>\n",
       "      <td>Data Science\\nArtificial Intelligence\\ntrainin...</td>\n",
       "    </tr>\n",
       "    <tr>\n",
       "      <th>2</th>\n",
       "      <td>Data Scientist</td>\n",
       "      <td>Shell India Markets Private Limited</td>\n",
       "      <td>Chennai</td>\n",
       "      <td>5-7 Yrs</td>\n",
       "      <td>Data Science\\nMultivariate Analysis\\nFactor An...</td>\n",
       "    </tr>\n",
       "    <tr>\n",
       "      <th>4</th>\n",
       "      <td>Senior Data Scientist</td>\n",
       "      <td>Decision Point</td>\n",
       "      <td>Gurgaon</td>\n",
       "      <td>3-5 Yrs</td>\n",
       "      <td>Azure\\ntimeseries forecasting\\nMachine Learnin...</td>\n",
       "    </tr>\n",
       "    <tr>\n",
       "      <th>6</th>\n",
       "      <td>Data Scientist - Machine Learning &amp; Statistica...</td>\n",
       "      <td>Talent Stock Solutions</td>\n",
       "      <td>Delhi</td>\n",
       "      <td>2-5 Yrs</td>\n",
       "      <td>Data Science\\nR\\nC\\nData Scientist\\nStatistica...</td>\n",
       "    </tr>\n",
       "    <tr>\n",
       "      <th>8</th>\n",
       "      <td>Data Scientist</td>\n",
       "      <td>Zen3Tech (A Tech Mahindra Company)</td>\n",
       "      <td>Hyderabad</td>\n",
       "      <td>3-8 Yrs</td>\n",
       "      <td>R\\nA/B Testing\\nData Manipulation\\nMachine Lea...</td>\n",
       "    </tr>\n",
       "  </tbody>\n",
       "</table>\n",
       "</div>"
      ],
      "text/plain": [
       "                                                Role  \\\n",
       "0                 Data Scientist/ Academic Counselor   \n",
       "2                                     Data Scientist   \n",
       "4                              Senior Data Scientist   \n",
       "6  Data Scientist - Machine Learning & Statistica...   \n",
       "8                                     Data Scientist   \n",
       "\n",
       "                                         Companies            Location  \\\n",
       "0  GREAT LAKES E-LEARNING SERVICES PRIVATE LIMITED  Chennai, Bengaluru   \n",
       "2              Shell India Markets Private Limited             Chennai   \n",
       "4                                   Decision Point             Gurgaon   \n",
       "6                           Talent Stock Solutions               Delhi   \n",
       "8               Zen3Tech (A Tech Mahindra Company)           Hyderabad   \n",
       "\n",
       "  Experience                                             Skills  \n",
       "0    2-7 Yrs  Data Science\\nArtificial Intelligence\\ntrainin...  \n",
       "2    5-7 Yrs  Data Science\\nMultivariate Analysis\\nFactor An...  \n",
       "4    3-5 Yrs  Azure\\ntimeseries forecasting\\nMachine Learnin...  \n",
       "6    2-5 Yrs  Data Science\\nR\\nC\\nData Scientist\\nStatistica...  \n",
       "8    3-8 Yrs  R\\nA/B Testing\\nData Manipulation\\nMachine Lea...  "
      ]
     },
     "execution_count": 17,
     "metadata": {},
     "output_type": "execute_result"
    }
   ],
   "source": [
    "dff.head()"
   ]
  },
  {
   "cell_type": "code",
   "execution_count": 18,
   "id": "c0467057",
   "metadata": {},
   "outputs": [],
   "source": [
    "dff= dff.reset_index(drop=True)"
   ]
  },
  {
   "cell_type": "code",
   "execution_count": 19,
   "id": "1b0d6aa6",
   "metadata": {},
   "outputs": [
    {
     "data": {
      "text/html": [
       "<div>\n",
       "<style scoped>\n",
       "    .dataframe tbody tr th:only-of-type {\n",
       "        vertical-align: middle;\n",
       "    }\n",
       "\n",
       "    .dataframe tbody tr th {\n",
       "        vertical-align: top;\n",
       "    }\n",
       "\n",
       "    .dataframe thead th {\n",
       "        text-align: right;\n",
       "    }\n",
       "</style>\n",
       "<table border=\"1\" class=\"dataframe\">\n",
       "  <thead>\n",
       "    <tr style=\"text-align: right;\">\n",
       "      <th></th>\n",
       "      <th>Role</th>\n",
       "      <th>Companies</th>\n",
       "      <th>Location</th>\n",
       "      <th>Experience</th>\n",
       "      <th>Skills</th>\n",
       "    </tr>\n",
       "  </thead>\n",
       "  <tbody>\n",
       "    <tr>\n",
       "      <th>0</th>\n",
       "      <td>Data Scientist/ Academic Counselor</td>\n",
       "      <td>GREAT LAKES E-LEARNING SERVICES PRIVATE LIMITED</td>\n",
       "      <td>Chennai, Bengaluru</td>\n",
       "      <td>2-7 Yrs</td>\n",
       "      <td>Data Science\\nArtificial Intelligence\\ntrainin...</td>\n",
       "    </tr>\n",
       "    <tr>\n",
       "      <th>1</th>\n",
       "      <td>Data Scientist</td>\n",
       "      <td>Shell India Markets Private Limited</td>\n",
       "      <td>Chennai</td>\n",
       "      <td>5-7 Yrs</td>\n",
       "      <td>Data Science\\nMultivariate Analysis\\nFactor An...</td>\n",
       "    </tr>\n",
       "    <tr>\n",
       "      <th>2</th>\n",
       "      <td>Senior Data Scientist</td>\n",
       "      <td>Decision Point</td>\n",
       "      <td>Gurgaon</td>\n",
       "      <td>3-5 Yrs</td>\n",
       "      <td>Azure\\ntimeseries forecasting\\nMachine Learnin...</td>\n",
       "    </tr>\n",
       "    <tr>\n",
       "      <th>3</th>\n",
       "      <td>Data Scientist - Machine Learning &amp; Statistica...</td>\n",
       "      <td>Talent Stock Solutions</td>\n",
       "      <td>Delhi</td>\n",
       "      <td>2-5 Yrs</td>\n",
       "      <td>Data Science\\nR\\nC\\nData Scientist\\nStatistica...</td>\n",
       "    </tr>\n",
       "    <tr>\n",
       "      <th>4</th>\n",
       "      <td>Data Scientist</td>\n",
       "      <td>Zen3Tech (A Tech Mahindra Company)</td>\n",
       "      <td>Hyderabad</td>\n",
       "      <td>3-8 Yrs</td>\n",
       "      <td>R\\nA/B Testing\\nData Manipulation\\nMachine Lea...</td>\n",
       "    </tr>\n",
       "  </tbody>\n",
       "</table>\n",
       "</div>"
      ],
      "text/plain": [
       "                                                Role  \\\n",
       "0                 Data Scientist/ Academic Counselor   \n",
       "1                                     Data Scientist   \n",
       "2                              Senior Data Scientist   \n",
       "3  Data Scientist - Machine Learning & Statistica...   \n",
       "4                                     Data Scientist   \n",
       "\n",
       "                                         Companies            Location  \\\n",
       "0  GREAT LAKES E-LEARNING SERVICES PRIVATE LIMITED  Chennai, Bengaluru   \n",
       "1              Shell India Markets Private Limited             Chennai   \n",
       "2                                   Decision Point             Gurgaon   \n",
       "3                           Talent Stock Solutions               Delhi   \n",
       "4               Zen3Tech (A Tech Mahindra Company)           Hyderabad   \n",
       "\n",
       "  Experience                                             Skills  \n",
       "0    2-7 Yrs  Data Science\\nArtificial Intelligence\\ntrainin...  \n",
       "1    5-7 Yrs  Data Science\\nMultivariate Analysis\\nFactor An...  \n",
       "2    3-5 Yrs  Azure\\ntimeseries forecasting\\nMachine Learnin...  \n",
       "3    2-5 Yrs  Data Science\\nR\\nC\\nData Scientist\\nStatistica...  \n",
       "4    3-8 Yrs  R\\nA/B Testing\\nData Manipulation\\nMachine Lea...  "
      ]
     },
     "execution_count": 19,
     "metadata": {},
     "output_type": "execute_result"
    }
   ],
   "source": [
    "dff.head()"
   ]
  },
  {
   "cell_type": "code",
   "execution_count": 27,
   "id": "346f2099",
   "metadata": {},
   "outputs": [],
   "source": [
    "df3= dff[[\"Location\",\"Role\"]].groupby(\"Location\").count()"
   ]
  },
  {
   "cell_type": "code",
   "execution_count": 29,
   "id": "7df67090",
   "metadata": {},
   "outputs": [
    {
     "data": {
      "text/html": [
       "<div>\n",
       "<style scoped>\n",
       "    .dataframe tbody tr th:only-of-type {\n",
       "        vertical-align: middle;\n",
       "    }\n",
       "\n",
       "    .dataframe tbody tr th {\n",
       "        vertical-align: top;\n",
       "    }\n",
       "\n",
       "    .dataframe thead th {\n",
       "        text-align: right;\n",
       "    }\n",
       "</style>\n",
       "<table border=\"1\" class=\"dataframe\">\n",
       "  <thead>\n",
       "    <tr style=\"text-align: right;\">\n",
       "      <th></th>\n",
       "      <th>Role</th>\n",
       "    </tr>\n",
       "    <tr>\n",
       "      <th>Location</th>\n",
       "      <th></th>\n",
       "    </tr>\n",
       "  </thead>\n",
       "  <tbody>\n",
       "    <tr>\n",
       "      <th>Bengaluru</th>\n",
       "      <td>456</td>\n",
       "    </tr>\n",
       "    <tr>\n",
       "      <th>Mumbai</th>\n",
       "      <td>148</td>\n",
       "    </tr>\n",
       "    <tr>\n",
       "      <th>Pune</th>\n",
       "      <td>114</td>\n",
       "    </tr>\n",
       "    <tr>\n",
       "      <th>Hyderabad</th>\n",
       "      <td>107</td>\n",
       "    </tr>\n",
       "    <tr>\n",
       "      <th>Gurgaon</th>\n",
       "      <td>80</td>\n",
       "    </tr>\n",
       "  </tbody>\n",
       "</table>\n",
       "</div>"
      ],
      "text/plain": [
       "           Role\n",
       "Location       \n",
       "Bengaluru   456\n",
       "Mumbai      148\n",
       "Pune        114\n",
       "Hyderabad   107\n",
       "Gurgaon      80"
      ]
     },
     "execution_count": 29,
     "metadata": {},
     "output_type": "execute_result"
    }
   ],
   "source": [
    "df3.sort_values(\"Role\",ascending = False).head()"
   ]
  },
  {
   "cell_type": "code",
   "execution_count": 32,
   "id": "d6c22b32",
   "metadata": {},
   "outputs": [],
   "source": [
    "df4= dff[[\"Companies\",\"Role\"]].groupby(\"Companies\").count()"
   ]
  },
  {
   "cell_type": "code",
   "execution_count": 33,
   "id": "0ed4e725",
   "metadata": {},
   "outputs": [
    {
     "data": {
      "text/html": [
       "<div>\n",
       "<style scoped>\n",
       "    .dataframe tbody tr th:only-of-type {\n",
       "        vertical-align: middle;\n",
       "    }\n",
       "\n",
       "    .dataframe tbody tr th {\n",
       "        vertical-align: top;\n",
       "    }\n",
       "\n",
       "    .dataframe thead th {\n",
       "        text-align: right;\n",
       "    }\n",
       "</style>\n",
       "<table border=\"1\" class=\"dataframe\">\n",
       "  <thead>\n",
       "    <tr style=\"text-align: right;\">\n",
       "      <th></th>\n",
       "      <th>Role</th>\n",
       "    </tr>\n",
       "    <tr>\n",
       "      <th>Companies</th>\n",
       "      <th></th>\n",
       "    </tr>\n",
       "  </thead>\n",
       "  <tbody>\n",
       "    <tr>\n",
       "      <th>\\tMorgan Stanley Advantage Services</th>\n",
       "      <td>1</td>\n",
       "    </tr>\n",
       "    <tr>\n",
       "      <th>2Coms Consulting Pvt Ltd.</th>\n",
       "      <td>2</td>\n",
       "    </tr>\n",
       "    <tr>\n",
       "      <th>3D India Staffing Research &amp; Consulting Co India</th>\n",
       "      <td>1</td>\n",
       "    </tr>\n",
       "    <tr>\n",
       "      <th>3D India Staffing Research &amp; Consulting Pvt Ltd</th>\n",
       "      <td>1</td>\n",
       "    </tr>\n",
       "    <tr>\n",
       "      <th>3D India Staffing Research Consulting Pvt Ltd</th>\n",
       "      <td>4</td>\n",
       "    </tr>\n",
       "  </tbody>\n",
       "</table>\n",
       "</div>"
      ],
      "text/plain": [
       "                                                  Role\n",
       "Companies                                             \n",
       "\\tMorgan Stanley Advantage Services                  1\n",
       "2Coms Consulting Pvt Ltd.                            2\n",
       "3D India Staffing Research & Consulting Co India     1\n",
       "3D India Staffing Research & Consulting Pvt Ltd      1\n",
       "3D India Staffing Research Consulting Pvt Ltd        4"
      ]
     },
     "execution_count": 33,
     "metadata": {},
     "output_type": "execute_result"
    }
   ],
   "source": [
    "df4.head()"
   ]
  },
  {
   "cell_type": "code",
   "execution_count": 74,
   "id": "b99a9724",
   "metadata": {},
   "outputs": [],
   "source": [
    "df4=df4.sort_values(\"Role\",ascending = False).head()"
   ]
  },
  {
   "cell_type": "code",
   "execution_count": 75,
   "id": "924c09f3",
   "metadata": {},
   "outputs": [],
   "source": [
    "df5= dff[[\"Role\",\"Experience\"]].groupby(\"Experience\").count()"
   ]
  },
  {
   "cell_type": "code",
   "execution_count": 68,
   "id": "071bd8f0",
   "metadata": {},
   "outputs": [
    {
     "data": {
      "text/html": [
       "<div>\n",
       "<style scoped>\n",
       "    .dataframe tbody tr th:only-of-type {\n",
       "        vertical-align: middle;\n",
       "    }\n",
       "\n",
       "    .dataframe tbody tr th {\n",
       "        vertical-align: top;\n",
       "    }\n",
       "\n",
       "    .dataframe thead th {\n",
       "        text-align: right;\n",
       "    }\n",
       "</style>\n",
       "<table border=\"1\" class=\"dataframe\">\n",
       "  <thead>\n",
       "    <tr style=\"text-align: right;\">\n",
       "      <th></th>\n",
       "      <th>Role</th>\n",
       "    </tr>\n",
       "    <tr>\n",
       "      <th>Experience</th>\n",
       "      <th></th>\n",
       "    </tr>\n",
       "  </thead>\n",
       "  <tbody>\n",
       "    <tr>\n",
       "      <th>0 Yrs</th>\n",
       "      <td>16</td>\n",
       "    </tr>\n",
       "    <tr>\n",
       "      <th>0-0 Yrs</th>\n",
       "      <td>12</td>\n",
       "    </tr>\n",
       "    <tr>\n",
       "      <th>0-1 Yrs</th>\n",
       "      <td>29</td>\n",
       "    </tr>\n",
       "    <tr>\n",
       "      <th>0-2 Yrs</th>\n",
       "      <td>20</td>\n",
       "    </tr>\n",
       "    <tr>\n",
       "      <th>0-3 Yrs</th>\n",
       "      <td>9</td>\n",
       "    </tr>\n",
       "  </tbody>\n",
       "</table>\n",
       "</div>"
      ],
      "text/plain": [
       "            Role\n",
       "Experience      \n",
       "0 Yrs         16\n",
       "0-0 Yrs       12\n",
       "0-1 Yrs       29\n",
       "0-2 Yrs       20\n",
       "0-3 Yrs        9"
      ]
     },
     "execution_count": 68,
     "metadata": {},
     "output_type": "execute_result"
    }
   ],
   "source": [
    "df5.head()"
   ]
  },
  {
   "cell_type": "code",
   "execution_count": 69,
   "id": "2cd2a5da",
   "metadata": {},
   "outputs": [],
   "source": [
    "df5 = df5.sort_values(\"Role\",ascending = False).head()"
   ]
  },
  {
   "cell_type": "code",
   "execution_count": 70,
   "id": "f23bf91f",
   "metadata": {},
   "outputs": [],
   "source": [
    "df6= dff[[\"Companies\",\"Experience\"]].groupby(\"Experience\").count()"
   ]
  },
  {
   "cell_type": "code",
   "execution_count": 71,
   "id": "d1e26313",
   "metadata": {},
   "outputs": [
    {
     "data": {
      "text/html": [
       "<div>\n",
       "<style scoped>\n",
       "    .dataframe tbody tr th:only-of-type {\n",
       "        vertical-align: middle;\n",
       "    }\n",
       "\n",
       "    .dataframe tbody tr th {\n",
       "        vertical-align: top;\n",
       "    }\n",
       "\n",
       "    .dataframe thead th {\n",
       "        text-align: right;\n",
       "    }\n",
       "</style>\n",
       "<table border=\"1\" class=\"dataframe\">\n",
       "  <thead>\n",
       "    <tr style=\"text-align: right;\">\n",
       "      <th></th>\n",
       "      <th>Companies</th>\n",
       "    </tr>\n",
       "    <tr>\n",
       "      <th>Experience</th>\n",
       "      <th></th>\n",
       "    </tr>\n",
       "  </thead>\n",
       "  <tbody>\n",
       "    <tr>\n",
       "      <th>5-10 Yrs</th>\n",
       "      <td>135</td>\n",
       "    </tr>\n",
       "    <tr>\n",
       "      <th>2-7 Yrs</th>\n",
       "      <td>97</td>\n",
       "    </tr>\n",
       "    <tr>\n",
       "      <th>3-8 Yrs</th>\n",
       "      <td>97</td>\n",
       "    </tr>\n",
       "    <tr>\n",
       "      <th>2-5 Yrs</th>\n",
       "      <td>94</td>\n",
       "    </tr>\n",
       "    <tr>\n",
       "      <th>3-5 Yrs</th>\n",
       "      <td>73</td>\n",
       "    </tr>\n",
       "  </tbody>\n",
       "</table>\n",
       "</div>"
      ],
      "text/plain": [
       "            Companies\n",
       "Experience           \n",
       "5-10 Yrs          135\n",
       "2-7 Yrs            97\n",
       "3-8 Yrs            97\n",
       "2-5 Yrs            94\n",
       "3-5 Yrs            73"
      ]
     },
     "execution_count": 71,
     "metadata": {},
     "output_type": "execute_result"
    }
   ],
   "source": [
    "df6 = df6.sort_values(\"Companies\",ascending = False).head()"
   ]
  },
  {
   "cell_type": "code",
   "execution_count": 50,
   "id": "ec5aceb1",
   "metadata": {},
   "outputs": [
    {
     "data": {
      "text/plain": [
       "0    Basics of DS\n",
       "dtype: object"
      ]
     },
     "execution_count": 50,
     "metadata": {},
     "output_type": "execute_result"
    }
   ],
   "source": [
    "dff.Skills.mode()"
   ]
  },
  {
   "cell_type": "code",
   "execution_count": 72,
   "id": "87dac106",
   "metadata": {},
   "outputs": [
    {
     "data": {
      "text/plain": [
       "<AxesSubplot:xlabel='Experience'>"
      ]
     },
     "execution_count": 72,
     "metadata": {},
     "output_type": "execute_result"
    },
    {
     "data": {
      "image/png": "[encoded data removed]",
      "text/plain": [
       "<Figure size 432x288 with 1 Axes>"
      ]
     },
     "metadata": {
      "needs_background": "light"
     },
     "output_type": "display_data"
    }
   ],
   "source": [
    "df5.plot()"
   ]
  },
  {
   "cell_type": "code",
   "execution_count": 76,
   "id": "e3fc14be",
   "metadata": {},
   "outputs": [
    {
     "data": {
      "text/plain": [
       "<AxesSubplot:ylabel='Companies'>"
      ]
     },
     "execution_count": 76,
     "metadata": {},
     "output_type": "execute_result"
    },
    {
     "data": {
      "image/png": "[encoded data removed]",
      "text/plain": [
       "<Figure size 432x288 with 1 Axes>"
      ]
     },
     "metadata": {
      "needs_background": "light"
     },
     "output_type": "display_data"
    }
   ],
   "source": [
    "df4.head(20).plot(kind = \"barh\")"
   ]
  },
  {
   "cell_type": "code",
   "execution_count": 83,
   "id": "f5b060e6",
   "metadata": {},
   "outputs": [
    {
     "data": {
      "text/plain": [
       "<AxesSubplot:xlabel='Experience'>"
      ]
     },
     "execution_count": 83,
     "metadata": {},
     "output_type": "execute_result"
    },
    {
     "data": {
      "image/png": "[encoded data removed]",
      "text/plain": [
       "<Figure size 432x288 with 1 Axes>"
      ]
     },
     "metadata": {
      "needs_background": "light"
     },
     "output_type": "display_data"
    }
   ],
   "source": [
    "df6.plot()"
   ]
  },
  {
   "cell_type": "code",
   "execution_count": 88,
   "id": "f7feb172",
   "metadata": {},
   "outputs": [],
   "source": [
    "data1 = dff.copy()"
   ]
  },
  {
   "cell_type": "code",
   "execution_count": 89,
   "id": "e80643e3",
   "metadata": {},
   "outputs": [],
   "source": [
    "from sklearn.preprocessing import LabelEncoder\n",
    "\n",
    "labelencoder_X = LabelEncoder()\n",
    "for i in data1.columns:\n",
    "    data1[i] = labelencoder_X.fit_transform(data1[i])\n",
    "\n"
   ]
  },
  {
   "cell_type": "code",
   "execution_count": 90,
   "id": "0d33b725",
   "metadata": {},
   "outputs": [
    {
     "data": {
      "text/html": [
       "<div>\n",
       "<style scoped>\n",
       "    .dataframe tbody tr th:only-of-type {\n",
       "        vertical-align: middle;\n",
       "    }\n",
       "\n",
       "    .dataframe tbody tr th {\n",
       "        vertical-align: top;\n",
       "    }\n",
       "\n",
       "    .dataframe thead th {\n",
       "        text-align: right;\n",
       "    }\n",
       "</style>\n",
       "<table border=\"1\" class=\"dataframe\">\n",
       "  <thead>\n",
       "    <tr style=\"text-align: right;\">\n",
       "      <th></th>\n",
       "      <th>Role</th>\n",
       "      <th>Companies</th>\n",
       "      <th>Location</th>\n",
       "      <th>Experience</th>\n",
       "      <th>Skills</th>\n",
       "    </tr>\n",
       "  </thead>\n",
       "  <tbody>\n",
       "    <tr>\n",
       "      <th>0</th>\n",
       "      <td>416</td>\n",
       "      <td>339</td>\n",
       "      <td>45</td>\n",
       "      <td>48</td>\n",
       "      <td>288</td>\n",
       "    </tr>\n",
       "    <tr>\n",
       "      <th>1</th>\n",
       "      <td>260</td>\n",
       "      <td>685</td>\n",
       "      <td>38</td>\n",
       "      <td>64</td>\n",
       "      <td>356</td>\n",
       "    </tr>\n",
       "    <tr>\n",
       "      <th>2</th>\n",
       "      <td>742</td>\n",
       "      <td>254</td>\n",
       "      <td>111</td>\n",
       "      <td>51</td>\n",
       "      <td>44</td>\n",
       "    </tr>\n",
       "    <tr>\n",
       "      <th>3</th>\n",
       "      <td>314</td>\n",
       "      <td>740</td>\n",
       "      <td>75</td>\n",
       "      <td>46</td>\n",
       "      <td>418</td>\n",
       "    </tr>\n",
       "    <tr>\n",
       "      <th>4</th>\n",
       "      <td>260</td>\n",
       "      <td>853</td>\n",
       "      <td>120</td>\n",
       "      <td>54</td>\n",
       "      <td>975</td>\n",
       "    </tr>\n",
       "  </tbody>\n",
       "</table>\n",
       "</div>"
      ],
      "text/plain": [
       "   Role  Companies  Location  Experience  Skills\n",
       "0   416        339        45          48     288\n",
       "1   260        685        38          64     356\n",
       "2   742        254       111          51      44\n",
       "3   314        740        75          46     418\n",
       "4   260        853       120          54     975"
      ]
     },
     "execution_count": 90,
     "metadata": {},
     "output_type": "execute_result"
    }
   ],
   "source": [
    "data1.head()"
   ]
  },
  {
   "cell_type": "code",
   "execution_count": 98,
   "id": "fcb051be",
   "metadata": {},
   "outputs": [
    {
     "data": {
      "image/png": "[encoded data removed]",
      "text/plain": [
       "<Figure size 432x288 with 1 Axes>"
      ]
     },
     "metadata": {
      "needs_background": "light"
     },
     "output_type": "display_data"
    },
    {
     "data": {
      "image/png": "[encoded data removed]",
      "text/plain": [
       "<Figure size 432x288 with 1 Axes>"
      ]
     },
     "metadata": {
      "needs_background": "light"
     },
     "output_type": "display_data"
    }
   ],
   "source": [
    "import numpy as np\n",
    "import matplotlib.pyplot as plt\n",
    "import pandas as pd\n",
    "\n",
    "# Importing the dataset\n",
    "\n",
    "X = data1.iloc[:, [0,1]].values\n",
    "\n",
    "# Using the elbow method to find the optimal number of clusters\n",
    "from sklearn.cluster import KMeans\n",
    "wcss = []\n",
    "for i in range(1, 11):\n",
    "    kmeans = KMeans(n_clusters = i, init = 'k-means++', random_state = 42)\n",
    "    kmeans.fit(X)\n",
    "    wcss.append(kmeans.inertia_)\n",
    "plt.plot(range(1, 11), wcss)\n",
    "plt.title('The Elbow Method')\n",
    "plt.xlabel('Number of clusters')\n",
    "plt.ylabel('WCSS')\n",
    "plt.show()\n",
    "\n",
    "# Training the K-Means model on the dataset\n",
    "kmeans = KMeans(n_clusters = 4, init = 'k-means++', random_state = 20)\n",
    "y_kmeans = kmeans.fit_predict(X)\n",
    "\n",
    "# Visualising the clusters\n",
    "plt.scatter(X[y_kmeans == 0, 0], X[y_kmeans == 0, 1], s = 100, c = 'red', label = 'Cluster 1')\n",
    "plt.scatter(X[y_kmeans == 1, 0], X[y_kmeans == 1, 1], s = 100, c = 'blue', label = 'Cluster 2')\n",
    "plt.scatter(X[y_kmeans == 2, 0], X[y_kmeans == 2, 1], s = 100, c = 'cyan', label = 'Cluster 3')\n",
    "plt.scatter(X[y_kmeans == 3, 0], X[y_kmeans == 3, 1], s = 100, c = 'green', label = 'Cluster 4')\n",
    "plt.scatter(kmeans.cluster_centers_[:, 0], kmeans.cluster_centers_[:, 1], s = 300, c = 'yellow', label = 'Centroids')\n",
    "plt.title('Clusters of customers')\n",
    "plt.xlabel('Annual Income (k$)')\n",
    "plt.ylabel('Spending Score (1-100)')\n",
    "plt.legend()\n",
    "plt.show()"
   ]
  },
  {
   "cell_type": "code",
   "execution_count": null,
   "id": "efcbbffd",
   "metadata": {},
   "outputs": [],
   "source": []
  }
 ],
 "metadata": {
  "kernelspec": {
   "display_name": "Python 3",
   "language": "python",
   "name": "python3"
  },
  "language_info": {
   "codemirror_mode": {
    "name": "ipython",
    "version": 3
   },
   "file_extension": ".py",
   "mimetype": "text/x-python",
   "name": "python",
   "nbconvert_exporter": "python",
   "pygments_lexer": "ipython3",
   "version": "3.8.8"
  }
 },
 "nbformat": 4,
 "nbformat_minor": 5
}
